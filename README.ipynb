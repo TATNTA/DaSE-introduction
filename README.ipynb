{
 "cells": [
  {
   "cell_type": "markdown",
   "metadata": {},
   "source": [
    "##  DaSE-intro-\n",
    "***\n",
    "- 学号：10223330401\n",
    "- 姓名：杨正楠\n",
    "- 目录week1-week16里包含了各周的作业\n",
    "- 目录final中包含了期末大作业，其中包含了数据、源代码、实验报告和介绍视频等"
   ]
  }
 ],
 "metadata": {
  "language_info": {
   "name": "python"
  }
 },
 "nbformat": 4,
 "nbformat_minor": 2
}
