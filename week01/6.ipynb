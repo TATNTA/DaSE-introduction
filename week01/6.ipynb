{
 "cells": [
  {
   "cell_type": "code",
   "execution_count": 1,
   "id": "1add875f",
   "metadata": {},
   "outputs": [
    {
     "name": "stdout",
     "output_type": "stream",
     "text": [
      "请输入w: 100\n",
      "请输入x：20\n",
      "请输入y：70\n",
      "请输入z: 60\n",
      "[100, 70, 60, 20]\n"
     ]
    }
   ],
   "source": [
    "w = int(input(\"请输入w: \"))\n",
    "x = int(input(\"请输入x：\"))\n",
    "y = int(input(\"请输入y：\"))\n",
    "z = int(input(\"请输入z: \"))\n",
    "numbers = [w,x,y,z]\n",
    "sorted_numbers = sorted(numbers,reverse = True)\n",
    "print(sorted_numbers[:4])"
   ]
  },
  {
   "cell_type": "code",
   "execution_count": null,
   "id": "7838df23",
   "metadata": {},
   "outputs": [],
   "source": []
  }
 ],
 "metadata": {
  "kernelspec": {
   "display_name": "Python 3 (ipykernel)",
   "language": "python",
   "name": "python3"
  },
  "language_info": {
   "codemirror_mode": {
    "name": "ipython",
    "version": 3
   },
   "file_extension": ".py",
   "mimetype": "text/x-python",
   "name": "python",
   "nbconvert_exporter": "python",
   "pygments_lexer": "ipython3",
   "version": "3.9.13"
  }
 },
 "nbformat": 4,
 "nbformat_minor": 5
}
