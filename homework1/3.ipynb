{
 "cells": [
  {
   "cell_type": "code",
   "execution_count": 3,
   "id": "850befe9",
   "metadata": {},
   "outputs": [
    {
     "name": "stdout",
     "output_type": "stream",
     "text": [
      "请输入x：10\n",
      "请输入y：90\n",
      "请输入z: 2\n",
      "2 10 90\n"
     ]
    }
   ],
   "source": [
    "x = int(input(\"请输入x：\"))\n",
    "y = int(input(\"请输入y：\"))\n",
    "z = int(input(\"请输入z: \"))\n",
    "if x >= y and x >= z:\n",
    "    if y >= z:\n",
    "        print(z,y,x)\n",
    "    else:\n",
    "        print(y,z,x)\n",
    "if y >= x and y >= z:\n",
    "    if x >= z:\n",
    "        print(z,x,y)\n",
    "    else:\n",
    "        print(z,x,y)\n",
    "if z >= x and z >= y:\n",
    "    if x >= y:\n",
    "        print(y,x,z)\n",
    "    else:\n",
    "        print(x,y,z)\n",
    "    "
   ]
  },
  {
   "cell_type": "code",
   "execution_count": null,
   "id": "6457d531",
   "metadata": {},
   "outputs": [],
   "source": []
  },
  {
   "cell_type": "code",
   "execution_count": null,
   "id": "2ec5970f",
   "metadata": {},
   "outputs": [],
   "source": []
  }
 ],
 "metadata": {
  "kernelspec": {
   "display_name": "Python 3 (ipykernel)",
   "language": "python",
   "name": "python3"
  },
  "language_info": {
   "codemirror_mode": {
    "name": "ipython",
    "version": 3
   },
   "file_extension": ".py",
   "mimetype": "text/x-python",
   "name": "python",
   "nbconvert_exporter": "python",
   "pygments_lexer": "ipython3",
   "version": "3.9.13"
  }
 },
 "nbformat": 4,
 "nbformat_minor": 5
}
