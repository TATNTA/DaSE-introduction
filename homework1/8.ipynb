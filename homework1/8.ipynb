{
 "cells": [
  {
   "cell_type": "code",
   "execution_count": 4,
   "id": "749b851f",
   "metadata": {},
   "outputs": [
    {
     "name": "stdout",
     "output_type": "stream",
     "text": [
      "请输入字符串: abccccad\n",
      "cccc\n"
     ]
    }
   ],
   "source": [
    "str = input(\"请输入字符串: \")\n",
    "i = 1\n",
    "curMaxLen = 1\n",
    "maxLen = 1\n",
    "output = \"a\"\n",
    "while i < len(str):\n",
    "    if str[i] == str[i - 1]:\n",
    "        i += 1\n",
    "        if curMaxLen >= maxLen:\n",
    "            curMaxLen += 1\n",
    "            output = str[i - 1]\n",
    "    else:\n",
    "        i += 1\n",
    "        if curMaxLen != 1:\n",
    "            maxLen = curMaxLen\n",
    "        curMaxLen = 1\n",
    "if curMaxLen > maxLen:\n",
    "    maxLen = curMaxLen\n",
    "print(output*maxLen)"
   ]
  },
  {
   "cell_type": "code",
   "execution_count": null,
   "id": "a890292d",
   "metadata": {},
   "outputs": [],
   "source": []
  }
 ],
 "metadata": {
  "kernelspec": {
   "display_name": "Python 3 (ipykernel)",
   "language": "python",
   "name": "python3"
  },
  "language_info": {
   "codemirror_mode": {
    "name": "ipython",
    "version": 3
   },
   "file_extension": ".py",
   "mimetype": "text/x-python",
   "name": "python",
   "nbconvert_exporter": "python",
   "pygments_lexer": "ipython3",
   "version": "3.9.13"
  }
 },
 "nbformat": 4,
 "nbformat_minor": 5
}
