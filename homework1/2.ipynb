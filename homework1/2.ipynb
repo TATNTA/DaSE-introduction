{
 "cells": [
  {
   "cell_type": "code",
   "execution_count": 2,
   "id": "149e8e02",
   "metadata": {},
   "outputs": [
    {
     "name": "stdout",
     "output_type": "stream",
     "text": [
      "★★★★★★★★★★★\n",
      "★数据科学与工程导论★\n",
      "★★★★★★★★★★★\n"
     ]
    }
   ],
   "source": [
    "print(chr(0x2605)*11)\n",
    "print(chr(0x2605) + \"数据科学与工程导论\" + chr(0x2605))\n",
    "print(chr(0x2605)*11)"
   ]
  },
  {
   "cell_type": "code",
   "execution_count": null,
   "id": "81b3ec9c",
   "metadata": {},
   "outputs": [],
   "source": []
  }
 ],
 "metadata": {
  "kernelspec": {
   "display_name": "Python 3 (ipykernel)",
   "language": "python",
   "name": "python3"
  },
  "language_info": {
   "codemirror_mode": {
    "name": "ipython",
    "version": 3
   },
   "file_extension": ".py",
   "mimetype": "text/x-python",
   "name": "python",
   "nbconvert_exporter": "python",
   "pygments_lexer": "ipython3",
   "version": "3.9.13"
  }
 },
 "nbformat": 4,
 "nbformat_minor": 5
}
