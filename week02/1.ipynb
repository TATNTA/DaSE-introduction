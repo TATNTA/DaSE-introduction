{
 "cells": [
  {
   "cell_type": "markdown",
   "id": "638327b3",
   "metadata": {},
   "source": [
    "1.如果n=2001，数列是什么？\n",
    "\n",
    "2001可以被3整除，因此数列是[3,3,3,...,3]一共有667个3"
   ]
  },
  {
   "cell_type": "markdown",
   "id": "0413df29",
   "metadata": {},
   "source": [
    "2.解释是如何迈出第一步的\n",
    "\n",
    "观察数字n：\n",
    "\n",
    "如果 n = 1 、 2 、 3 、 4 、 5 ，都可以对应给出结果。\n",
    "如果 n mod 3 = 0 ，即 3 * m = n ,则可以划分为全为 3 的数组，数量为 m 个。\n",
    "如果 n mod 3 = 1 ，即 3 * m + 1= n ,则可以划分为 m - 1 个 3 、2 个 2 的数组。\n",
    "如果 n mod 3 = 2 ，即 3 * m + 2= n ,则可以划分为 m 个 3 、1 个 2 的数组。"
   ]
  },
  {
   "cell_type": "code",
   "execution_count": 1,
   "id": "3c7add37",
   "metadata": {},
   "outputs": [
    {
     "name": "stdout",
     "output_type": "stream",
     "text": [
      "正整数序列为: [3, 3, 3, 3, 3, 3, 3, 3, 3, 3, 3, 3, 3, 3, 3, 3, 3, 3, 3, 3, 3, 3, 3, 3, 3, 3, 3, 3, 3, 3, 3, 3, 3, 3, 3, 3, 3, 3, 3, 3, 3, 3, 3, 3, 3, 3, 3, 3, 3, 3, 3, 3, 3, 3, 3, 3, 3, 3, 3, 3, 3, 3, 3, 3, 3, 3, 3, 3, 3, 3, 2, 2]\n"
     ]
    }
   ],
   "source": [
    "def generate_arrays(n):\n",
    "    if n < 1:\n",
    "        return\n",
    "    elif n == 1:\n",
    "        return [1]\n",
    "    elif n % 3 == 0:\n",
    "        m = n // 3\n",
    "        return [3] * m\n",
    "    elif n % 3 == 1:\n",
    "        m = n // 3 - 1\n",
    "        return [3] * m + [2, 2]\n",
    "    else:\n",
    "        m = n // 3\n",
    "        return [3] * m + [2]\n",
    "\n",
    "# 输入一个正整数n\n",
    "n = int(input(\"请输入一个正整数n: \"))\n",
    "result = generate_arrays(n)\n",
    "print(\"正整数序列为:\", result)"
   ]
  },
  {
   "cell_type": "code",
   "execution_count": null,
   "id": "edebb886",
   "metadata": {},
   "outputs": [],
   "source": []
  }
 ],
 "metadata": {
  "kernelspec": {
   "display_name": "Python 3 (ipykernel)",
   "language": "python",
   "name": "python3"
  },
  "language_info": {
   "codemirror_mode": {
    "name": "ipython",
    "version": 3
   },
   "file_extension": ".py",
   "mimetype": "text/x-python",
   "name": "python",
   "nbconvert_exporter": "python",
   "pygments_lexer": "ipython3",
   "version": "3.11.7"
  }
 },
 "nbformat": 4,
 "nbformat_minor": 5
}
