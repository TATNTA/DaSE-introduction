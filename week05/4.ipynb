{
 "cells": [
  {
   "cell_type": "markdown",
   "id": "0aff145e",
   "metadata": {},
   "source": [
    "希尔排序的时间复杂度为O(n^3/2),而由于希尔排序和直接插入排序一样没有借助中间变量，空间复杂度为O(1)"
   ]
  },
  {
   "cell_type": "code",
   "execution_count": 1,
   "id": "7c979390",
   "metadata": {},
   "outputs": [
    {
     "name": "stdout",
     "output_type": "stream",
     "text": [
      "原始数组: [12, 34, 54, 2, 3]\n",
      "排序后数组: [2, 3, 12, 34, 54]\n"
     ]
    }
   ],
   "source": [
    "def shell_sort(arr):\n",
    "    n = len(arr)\n",
    "    gap = n // 2  # 初始间隔值\n",
    "\n",
    "    while gap > 0:\n",
    "        for i in range(gap, n):\n",
    "            temp = arr[i]\n",
    "            j = i\n",
    "\n",
    "            while j >= gap and arr[j - gap] > temp:\n",
    "                arr[j] = arr[j - gap]\n",
    "                j -= gap\n",
    "\n",
    "            arr[j] = temp\n",
    "        gap //= 2  # 减小间隔值\n",
    "\n",
    "# 示例用法\n",
    "arr = [12, 34, 54, 2, 3]\n",
    "print(\"原始数组:\", arr)\n",
    "shell_sort(arr)\n",
    "print(\"排序后数组:\", arr)"
   ]
  }
 ],
 "metadata": {
  "kernelspec": {
   "display_name": "Python 3 (ipykernel)",
   "language": "python",
   "name": "python3"
  },
  "language_info": {
   "codemirror_mode": {
    "name": "ipython",
    "version": 3
   },
   "file_extension": ".py",
   "mimetype": "text/x-python",
   "name": "python",
   "nbconvert_exporter": "python",
   "pygments_lexer": "ipython3",
   "version": "3.11.7"
  }
 },
 "nbformat": 4,
 "nbformat_minor": 5
}
