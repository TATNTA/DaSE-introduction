{
 "cells": [
  {
   "cell_type": "code",
   "execution_count": 8,
   "id": "2e8f3867",
   "metadata": {},
   "outputs": [
    {
     "name": "stdout",
     "output_type": "stream",
     "text": [
      "请输入数据: 101\n",
      "是质数\n"
     ]
    }
   ],
   "source": [
    "a = int(input(\"请输入数据: \"))\n",
    "i = 2\n",
    "j = 0\n",
    "while i < a:\n",
    "    if a % i == 0 and a != 2:\n",
    "        print(\"不是质数\")\n",
    "        j = 1\n",
    "        break\n",
    "    i += 1\n",
    "if j != 1:\n",
    "     print(\"是质数\")"
   ]
  },
  {
   "cell_type": "code",
   "execution_count": null,
   "id": "56ad8600",
   "metadata": {},
   "outputs": [],
   "source": []
  }
 ],
 "metadata": {
  "kernelspec": {
   "display_name": "Python 3 (ipykernel)",
   "language": "python",
   "name": "python3"
  },
  "language_info": {
   "codemirror_mode": {
    "name": "ipython",
    "version": 3
   },
   "file_extension": ".py",
   "mimetype": "text/x-python",
   "name": "python",
   "nbconvert_exporter": "python",
   "pygments_lexer": "ipython3",
   "version": "3.9.13"
  }
 },
 "nbformat": 4,
 "nbformat_minor": 5
}
