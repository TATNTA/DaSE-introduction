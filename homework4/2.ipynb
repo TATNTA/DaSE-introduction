{
 "cells": [
  {
   "cell_type": "code",
   "execution_count": 4,
   "id": "6d1c1897",
   "metadata": {},
   "outputs": [
    {
     "name": "stdout",
     "output_type": "stream",
     "text": [
      "[25, 192, 265, 311, 338, 691, 694, 919, 928, 988]\n",
      "[13, 31, 76, 89, 102, 102, 134, 137, 183, 185, 208, 216, 221, 236, 237, 242, 246, 276, 295, 308, 314, 346, 364, 367, 376, 412, 438, 493, 497, 506, 562, 578, 589, 605, 612, 616, 631, 678, 701, 705, 708, 708, 738, 748, 799, 823, 827, 855, 896, 919]\n",
      "[7, 14, 18, 19, 37, 51, 56, 57, 71, 83, 84, 94, 120, 144, 162, 165, 169, 173, 177, 188, 196, 198, 204, 226, 230, 249, 256, 263, 274, 275, 277, 286, 293, 303, 370, 377, 380, 382, 389, 390, 411, 420, 424, 424, 426, 441, 442, 443, 445, 448, 456, 458, 472, 483, 484, 499, 505, 515, 528, 534, 539, 553, 558, 561, 574, 579, 583, 604, 611, 611, 612, 642, 668, 683, 692, 696, 718, 731, 751, 761, 762, 775, 800, 806, 820, 841, 854, 855, 867, 868, 876, 892, 916, 931, 937, 953, 964, 965, 974, 998]\n",
      "程序运行时间为: 0.0030977000000120825秒\n"
     ]
    }
   ],
   "source": [
    "import time\n",
    "import random\n",
    "start = time.perf_counter()\n",
    "arr1 = [random.randint(0,1000) for i in range(10)]\n",
    "arr2 = [random.randint(0,1000) for i in range(50)]\n",
    "arr3 = [random.randint(0,1000) for i in range(100)]\n",
    "\n",
    "def select_sort(array):\n",
    "    n = len(array)\n",
    "    for i in range(n):  \n",
    "        for j in range(i + 1, n): \n",
    "            if array[i] > array[j]: \n",
    "                array[i], array[j] = array[j], array[i]\n",
    "\n",
    "    return array\n",
    "\n",
    "res1 = select_sort(arr1)  \n",
    "print(res1)\n",
    "res2 = select_sort(arr2)  \n",
    "print(res2)\n",
    "res3 = select_sort(arr3)  \n",
    "print(res3)\n",
    "end = time.perf_counter()\n",
    "print(\"程序运行时间为: %s秒\"%(end - start))"
   ]
  },
  {
   "cell_type": "code",
   "execution_count": 5,
   "id": "f9b0acba",
   "metadata": {},
   "outputs": [
    {
     "name": "stdout",
     "output_type": "stream",
     "text": [
      "[30, 43, 218, 261, 326, 425, 437, 607, 634, 942]\n",
      "[17, 46, 75, 117, 125, 129, 138, 139, 142, 166, 182, 214, 232, 239, 315, 323, 327, 365, 384, 386, 426, 443, 455, 464, 469, 508, 523, 541, 551, 576, 604, 641, 715, 729, 762, 770, 785, 818, 826, 837, 841, 907, 920, 920, 921, 923, 945, 960, 975, 978]\n",
      "[0, 25, 29, 57, 78, 80, 88, 90, 98, 111, 122, 151, 160, 172, 173, 187, 190, 196, 199, 203, 209, 210, 219, 225, 227, 230, 235, 251, 268, 270, 284, 298, 300, 308, 308, 333, 352, 394, 406, 407, 408, 416, 421, 425, 446, 448, 470, 488, 494, 504, 509, 527, 530, 533, 550, 555, 558, 567, 588, 588, 592, 595, 596, 600, 614, 634, 654, 656, 673, 688, 692, 699, 700, 702, 705, 712, 715, 719, 720, 729, 730, 764, 771, 783, 793, 830, 874, 886, 904, 907, 912, 936, 937, 938, 942, 962, 962, 981, 982, 990]\n",
      "程序运行时间为: 0.002866029739379883秒\n"
     ]
    }
   ],
   "source": [
    "import time\n",
    "import random\n",
    "start = time.time()\n",
    "arr1 = [random.randint(0,1000) for i in range(10)]\n",
    "arr2 = [random.randint(0,1000) for i in range(50)]\n",
    "arr3 = [random.randint(0,1000) for i in range(100)]\n",
    "\n",
    "def select_sort(array):\n",
    "    n = len(array)\n",
    "    for i in range(n):  \n",
    "        for j in range(i + 1, n): \n",
    "            if array[i] > array[j]: \n",
    "                array[i], array[j] = array[j], array[i]\n",
    "\n",
    "    return array\n",
    "\n",
    "res1 = select_sort(arr1)  \n",
    "print(res1)\n",
    "res2 = select_sort(arr2)  \n",
    "print(res2)\n",
    "res3 = select_sort(arr3)  \n",
    "print(res3)\n",
    "end = time.time()\n",
    "print(\"程序运行时间为: %s秒\"%(end - start))"
   ]
  },
  {
   "cell_type": "code",
   "execution_count": 6,
   "id": "e6de9ab9",
   "metadata": {},
   "outputs": [
    {
     "name": "stdout",
     "output_type": "stream",
     "text": [
      "[20, 220, 223, 250, 251, 438, 582, 733, 838, 981]\n",
      "[2, 4, 4, 38, 74, 79, 115, 117, 128, 135, 154, 162, 163, 167, 186, 201, 234, 243, 249, 281, 291, 294, 306, 332, 362, 378, 408, 436, 451, 458, 460, 466, 488, 514, 521, 568, 572, 576, 582, 602, 616, 662, 712, 742, 761, 777, 829, 838, 884, 885]\n",
      "[15, 16, 21, 56, 86, 87, 133, 154, 177, 178, 186, 210, 219, 250, 342, 350, 354, 363, 365, 368, 376, 383, 385, 385, 392, 394, 399, 401, 407, 417, 417, 418, 420, 448, 451, 455, 460, 463, 467, 471, 519, 533, 556, 557, 562, 565, 569, 570, 584, 600, 602, 611, 631, 632, 633, 661, 672, 673, 676, 677, 678, 679, 690, 692, 699, 710, 713, 718, 723, 734, 744, 750, 757, 758, 773, 786, 787, 791, 797, 798, 802, 816, 816, 826, 828, 836, 836, 845, 848, 868, 878, 906, 906, 927, 931, 953, 960, 973, 988, 994]\n",
      "程序运行时间为: 0:00:00.003001秒\n"
     ]
    }
   ],
   "source": [
    "import datetime\n",
    "import random\n",
    "start = datetime.datetime.now()\n",
    "arr1 = [random.randint(0,1000) for i in range(10)]\n",
    "arr2 = [random.randint(0,1000) for i in range(50)]\n",
    "arr3 = [random.randint(0,1000) for i in range(100)]\n",
    "\n",
    "def select_sort(array):\n",
    "    n = len(array)\n",
    "    for i in range(n):  \n",
    "        for j in range(i + 1, n): \n",
    "            if array[i] > array[j]: \n",
    "                array[i], array[j] = array[j], array[i]\n",
    "\n",
    "    return array\n",
    "\n",
    "res1 = select_sort(arr1)  \n",
    "print(res1)\n",
    "res2 = select_sort(arr2)  \n",
    "print(res2)\n",
    "res3 = select_sort(arr3)  \n",
    "print(res3)\n",
    "end = datetime.datetime.now()\n",
    "print(\"程序运行时间为: %s秒\"%(end - start))"
   ]
  },
  {
   "cell_type": "code",
   "execution_count": null,
   "id": "0cfad9d6",
   "metadata": {},
   "outputs": [],
   "source": []
  }
 ],
 "metadata": {
  "kernelspec": {
   "display_name": "Python 3 (ipykernel)",
   "language": "python",
   "name": "python3"
  },
  "language_info": {
   "codemirror_mode": {
    "name": "ipython",
    "version": 3
   },
   "file_extension": ".py",
   "mimetype": "text/x-python",
   "name": "python",
   "nbconvert_exporter": "python",
   "pygments_lexer": "ipython3",
   "version": "3.9.13"
  }
 },
 "nbformat": 4,
 "nbformat_minor": 5
}
