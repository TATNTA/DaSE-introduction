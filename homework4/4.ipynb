{
 "cells": [
  {
   "cell_type": "markdown",
   "id": "0aff145e",
   "metadata": {},
   "source": [
    "希尔排序的时间复杂度为O(n^3/2),而由于希尔排序和直接插入排序一样没有借助中间变量，空间复杂度为O(1)"
   ]
  }
 ],
 "metadata": {
  "kernelspec": {
   "display_name": "Python 3 (ipykernel)",
   "language": "python",
   "name": "python3"
  },
  "language_info": {
   "codemirror_mode": {
    "name": "ipython",
    "version": 3
   },
   "file_extension": ".py",
   "mimetype": "text/x-python",
   "name": "python",
   "nbconvert_exporter": "python",
   "pygments_lexer": "ipython3",
   "version": "3.9.13"
  }
 },
 "nbformat": 4,
 "nbformat_minor": 5
}
