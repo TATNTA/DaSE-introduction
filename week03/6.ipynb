{
 "cells": [
  {
   "cell_type": "code",
   "execution_count": 2,
   "id": "980eddca",
   "metadata": {},
   "outputs": [
    {
     "name": "stdout",
     "output_type": "stream",
     "text": [
      "请输入分数: 76\n",
      "良好\n"
     ]
    }
   ],
   "source": [
    "score = int(input(\"请输入分数: \"))\n",
    "if score < 60:\n",
    "    print(\"不合格\")\n",
    "elif score >= 60 and score <= 74:\n",
    "    print(\"合格\")\n",
    "elif score >= 75 and score <= 89:\n",
    "    print(\"良好\")\n",
    "else:\n",
    "    print(\"优秀\")"
   ]
  },
  {
   "cell_type": "code",
   "execution_count": null,
   "id": "f1139f22",
   "metadata": {},
   "outputs": [],
   "source": []
  }
 ],
 "metadata": {
  "kernelspec": {
   "display_name": "Python 3 (ipykernel)",
   "language": "python",
   "name": "python3"
  },
  "language_info": {
   "codemirror_mode": {
    "name": "ipython",
    "version": 3
   },
   "file_extension": ".py",
   "mimetype": "text/x-python",
   "name": "python",
   "nbconvert_exporter": "python",
   "pygments_lexer": "ipython3",
   "version": "3.9.13"
  }
 },
 "nbformat": 4,
 "nbformat_minor": 5
}
