{
 "cells": [
  {
   "cell_type": "code",
   "execution_count": 8,
   "id": "c672f9b9",
   "metadata": {},
   "outputs": [
    {
     "name": "stdout",
     "output_type": "stream",
     "text": [
      "请输入身份证号: 330381200404303911\n",
      "该身份证号合法\n"
     ]
    }
   ],
   "source": [
    "import re\n",
    "id_card = input(str(\"请输入身份证号: \"))\n",
    "pattern = r'^\\d{6}((19\\d{2})|((200\\d)|(201[0,8])))((0[13578]((0[1-9])|([1-2]\\d)|30|31))|(0[2]((0[1-9])|([1-2]\\d)))|(0[2469]((0[1-9])|([1-2]\\d)|30))|(11((0[1-9])|([1-2]\\d)|30))|(12((0[1-9])|([1-2]\\d)|30|31)))\\d{3}([0-9]|x)$'\n",
    "if re.match(pattern, id_card):\n",
    "    print(\"该身份证号合法\")\n",
    "else:\n",
    "    print(\"该身份证号不合法\")"
   ]
  },
  {
   "cell_type": "code",
   "execution_count": null,
   "id": "12517c90",
   "metadata": {},
   "outputs": [],
   "source": []
  }
 ],
 "metadata": {
  "kernelspec": {
   "display_name": "Python 3 (ipykernel)",
   "language": "python",
   "name": "python3"
  },
  "language_info": {
   "codemirror_mode": {
    "name": "ipython",
    "version": 3
   },
   "file_extension": ".py",
   "mimetype": "text/x-python",
   "name": "python",
   "nbconvert_exporter": "python",
   "pygments_lexer": "ipython3",
   "version": "3.9.13"
  }
 },
 "nbformat": 4,
 "nbformat_minor": 5
}
