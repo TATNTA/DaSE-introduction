{
 "cells": [
  {
   "cell_type": "code",
   "execution_count": 4,
   "id": "0fef1f54",
   "metadata": {},
   "outputs": [
    {
     "name": "stdout",
     "output_type": "stream",
     "text": [
      "请输入第一个数: 20\n",
      "请输入第二个数: 80\n",
      "20,80的最大公约数为:20\n"
     ]
    }
   ],
   "source": [
    "def func():\n",
    "    a = int(input(\"请输入第一个数: \"))\n",
    "    b = int(input(\"请输入第二个数: \"))\n",
    "    a1,b1 = a,b\n",
    "    t = 1\n",
    "    for i in range(2,min(a,b)):\n",
    "        while(a % i == 0 and b % i == 0):\n",
    "            t *= i\n",
    "            a /= i\n",
    "            b /= i\n",
    "    print(\"%s,%s的最大公约数为:%s\"%(a1,b1,t))\n",
    "\n",
    "func()"
   ]
  },
  {
   "cell_type": "code",
   "execution_count": null,
   "id": "2a54f3ae",
   "metadata": {},
   "outputs": [],
   "source": []
  }
 ],
 "metadata": {
  "kernelspec": {
   "display_name": "Python 3 (ipykernel)",
   "language": "python",
   "name": "python3"
  },
  "language_info": {
   "codemirror_mode": {
    "name": "ipython",
    "version": 3
   },
   "file_extension": ".py",
   "mimetype": "text/x-python",
   "name": "python",
   "nbconvert_exporter": "python",
   "pygments_lexer": "ipython3",
   "version": "3.9.13"
  }
 },
 "nbformat": 4,
 "nbformat_minor": 5
}
