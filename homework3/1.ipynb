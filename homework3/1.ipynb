{
 "cells": [
  {
   "cell_type": "code",
   "execution_count": 1,
   "id": "bb3d6bdd",
   "metadata": {},
   "outputs": [
    {
     "name": "stdout",
     "output_type": "stream",
     "text": [
      "请输入需要转化的十进制数: 123.8125\n",
      "对应的二进制数为:  1111011.1101\n"
     ]
    }
   ],
   "source": [
    "def LM(x):\n",
    "    L = int(x)\n",
    "    M = float(x - L)\n",
    "    \n",
    "    #整数部分\n",
    "    a1 = 0\n",
    "    b1 = L\n",
    "    c1 = L\n",
    "    while b1 >= 1:\n",
    "        b1 = b1 // 2\n",
    "        a1 += 1\n",
    "    d1 = []\n",
    "    e1 = 0\n",
    "    for i in range(a1):\n",
    "        e1 = c1 % 2\n",
    "        d1.append(str(int(e1)))\n",
    "        c1 = (c1 - e1) / 2\n",
    "    d1.reverse()\n",
    "    \n",
    "    #小数部分\n",
    "    a2 = M\n",
    "    b2 = []\n",
    "    while True:\n",
    "        a2 *= 2\n",
    "        if a2 >= 1.0:\n",
    "            b2.append(\"1\")\n",
    "            a2 -= 1\n",
    "            continue\n",
    "        elif 0 < a2 < 1.0:\n",
    "            b2.append(\"0\")\n",
    "            continue\n",
    "        else:\n",
    "            break\n",
    "    b2.insert(0,\".\")\n",
    "    \n",
    "    b = d1 + b2\n",
    "    \n",
    "    result = \"\".join(b)\n",
    "    return result\n",
    "\n",
    "x = float(input(\"请输入需要转化的十进制数: \"))\n",
    "print(\"对应的二进制数为: \",LM(x))"
   ]
  },
  {
   "cell_type": "code",
   "execution_count": null,
   "id": "d87f5b9b",
   "metadata": {},
   "outputs": [],
   "source": []
  }
 ],
 "metadata": {
  "kernelspec": {
   "display_name": "Python 3 (ipykernel)",
   "language": "python",
   "name": "python3"
  },
  "language_info": {
   "codemirror_mode": {
    "name": "ipython",
    "version": 3
   },
   "file_extension": ".py",
   "mimetype": "text/x-python",
   "name": "python",
   "nbconvert_exporter": "python",
   "pygments_lexer": "ipython3",
   "version": "3.9.13"
  }
 },
 "nbformat": 4,
 "nbformat_minor": 5
}
