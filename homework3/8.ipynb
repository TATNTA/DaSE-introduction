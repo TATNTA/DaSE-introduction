{
 "cells": [
  {
   "cell_type": "code",
   "execution_count": 5,
   "id": "1222e3b3",
   "metadata": {},
   "outputs": [
    {
     "name": "stdout",
     "output_type": "stream",
     "text": [
      "[25, 74, 156, 195, 366, 413, 488, 508, 632, 652]\n",
      "[27, 35, 41, 47, 62, 95, 117, 129, 130, 141, 173, 233, 251, 289, 312, 336, 345, 361, 372, 382, 394, 398, 404, 431, 462, 471, 478, 480, 489, 549, 559, 648, 651, 660, 661, 700, 705, 723, 768, 771, 793, 827, 860, 893, 899, 914, 925, 928, 971, 991]\n",
      "[5, 5, 9, 18, 30, 31, 32, 65, 82, 91, 91, 114, 114, 116, 129, 130, 144, 144, 151, 153, 174, 180, 183, 206, 222, 242, 243, 243, 261, 276, 281, 282, 283, 314, 328, 358, 371, 392, 403, 414, 414, 421, 457, 471, 475, 479, 495, 505, 508, 519, 522, 527, 528, 529, 531, 533, 540, 550, 554, 555, 561, 568, 569, 580, 588, 590, 591, 610, 625, 635, 637, 638, 648, 665, 704, 720, 721, 729, 737, 751, 767, 773, 773, 801, 808, 814, 816, 818, 819, 826, 837, 839, 858, 868, 898, 903, 917, 920, 920, 984]\n"
     ]
    }
   ],
   "source": [
    "import random\n",
    "arr1 = [random.randint(0,1000) for i in range(10)]\n",
    "arr2 = [random.randint(0,1000) for i in range(50)]\n",
    "arr3 = [random.randint(0,1000) for i in range(100)]\n",
    "\n",
    "def select_sort(array):\n",
    "    n = len(array)\n",
    "    for i in range(n):  \n",
    "        for j in range(i + 1, n): \n",
    "            if array[i] > array[j]: \n",
    "                array[i], array[j] = array[j], array[i]\n",
    "\n",
    "    return array\n",
    "\n",
    "res1 = select_sort(arr1)  \n",
    "print(res1)\n",
    "res2 = select_sort(arr2)  \n",
    "print(res2)\n",
    "res3 = select_sort(arr3)  \n",
    "print(res3)"
   ]
  },
  {
   "cell_type": "code",
   "execution_count": 6,
   "id": "0b0ac438",
   "metadata": {},
   "outputs": [
    {
     "name": "stdout",
     "output_type": "stream",
     "text": [
      "[158, 384, 496, 527, 704, 726, 805, 871, 914, 935]\n",
      "[37, 49, 65, 109, 120, 148, 149, 169, 170, 203, 213, 253, 254, 257, 277, 283, 289, 301, 316, 364, 379, 380, 383, 397, 413, 414, 429, 430, 430, 465, 465, 472, 479, 534, 535, 604, 647, 651, 694, 728, 732, 761, 776, 780, 790, 803, 805, 864, 896, 1000]\n",
      "[11, 12, 25, 29, 39, 44, 47, 53, 67, 81, 95, 105, 118, 124, 135, 150, 166, 170, 191, 203, 215, 220, 222, 222, 230, 240, 252, 267, 290, 311, 311, 327, 335, 360, 361, 364, 379, 390, 427, 437, 457, 457, 467, 472, 474, 486, 500, 501, 530, 531, 550, 553, 576, 580, 592, 598, 603, 605, 632, 637, 637, 650, 660, 674, 688, 690, 705, 710, 714, 718, 727, 739, 739, 748, 751, 760, 764, 792, 804, 808, 817, 831, 834, 861, 873, 887, 902, 902, 908, 908, 914, 915, 917, 917, 934, 949, 965, 967, 976, 990]\n"
     ]
    }
   ],
   "source": [
    "import random\n",
    "arr1 = [random.randint(0,1000) for i in range(10)]\n",
    "arr2 = [random.randint(0,1000) for i in range(50)]\n",
    "arr3 = [random.randint(0,1000) for i in range(100)]\n",
    "\n",
    "def merge(left, right):\n",
    "    ll, rr = 0, 0\n",
    "    result = []\n",
    "    while ll < len(left) and rr < len(right):\n",
    "        if left[ll] < right[rr]:\n",
    "            result.append(left[ll])\n",
    "            ll += 1\n",
    "        else:\n",
    "            result.append(right[rr])\n",
    "            rr += 1\n",
    "    result += left[ll:]\n",
    "    result += right[rr:]\n",
    "    return result\n",
    "\n",
    "def merge_sort(alist):\n",
    "    if len(alist) <= 1:\n",
    "        return alist\n",
    "    num = len(alist) // 2   \n",
    "    left = merge_sort(alist[:num]) \n",
    "    right = merge_sort(alist[num:]) \n",
    "    return merge(left, right) \n",
    "\n",
    "res1 = merge_sort(arr1)  \n",
    "print(res1)\n",
    "res2 = merge_sort(arr2)  \n",
    "print(res2)\n",
    "res3 = merge_sort(arr3)  \n",
    "print(res3)"
   ]
  },
  {
   "cell_type": "markdown",
   "id": "0a9da965",
   "metadata": {},
   "source": [
    "数据规模较小时，选择排序的效率接近甚至可能略高于归并排序，但是当数据规模增大时，归并排序的效率将会逐渐变得高于选择排序，当数据规模1很大时，归并排序的效率将会远远高于选择排序"
   ]
  }
 ],
 "metadata": {
  "kernelspec": {
   "display_name": "Python 3 (ipykernel)",
   "language": "python",
   "name": "python3"
  },
  "language_info": {
   "codemirror_mode": {
    "name": "ipython",
    "version": 3
   },
   "file_extension": ".py",
   "mimetype": "text/x-python",
   "name": "python",
   "nbconvert_exporter": "python",
   "pygments_lexer": "ipython3",
   "version": "3.9.13"
  }
 },
 "nbformat": 4,
 "nbformat_minor": 5
}
