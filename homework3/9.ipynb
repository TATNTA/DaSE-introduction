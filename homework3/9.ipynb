{
 "cells": [
  {
   "cell_type": "code",
   "execution_count": 17,
   "id": "1523427f",
   "metadata": {},
   "outputs": [
    {
     "name": "stdout",
     "output_type": "stream",
     "text": [
      "5\n",
      "[5, 6, 2, 7, 5]\n",
      "[ 420.  350. 1050.  300.  420.]\n"
     ]
    }
   ],
   "source": [
    "import random\n",
    "arr = [random.randint(1,7) for i in range(5)]\n",
    "n = len(arr)\n",
    "print(n)\n",
    "print(arr)\n",
    "\n",
    "b = np.zeros(n)\n",
    "j = 0\n",
    "cur = 1\n",
    "for i in range(n):\n",
    "    for k in range(n):\n",
    "        if k != i:\n",
    "            cur *= arr[k]\n",
    "    b[j] = cur\n",
    "    j += 1\n",
    "    k = 0\n",
    "    cur = 1\n",
    "print(b)"
   ]
  },
  {
   "cell_type": "code",
   "execution_count": null,
   "id": "17630245",
   "metadata": {},
   "outputs": [],
   "source": []
  }
 ],
 "metadata": {
  "kernelspec": {
   "display_name": "Python 3 (ipykernel)",
   "language": "python",
   "name": "python3"
  },
  "language_info": {
   "codemirror_mode": {
    "name": "ipython",
    "version": 3
   },
   "file_extension": ".py",
   "mimetype": "text/x-python",
   "name": "python",
   "nbconvert_exporter": "python",
   "pygments_lexer": "ipython3",
   "version": "3.9.13"
  }
 },
 "nbformat": 4,
 "nbformat_minor": 5
}
