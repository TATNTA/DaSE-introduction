{
 "cells": [
  {
   "cell_type": "code",
   "execution_count": 13,
   "id": "78b36ba8",
   "metadata": {
    "scrolled": true
   },
   "outputs": [
    {
     "name": "stdout",
     "output_type": "stream",
     "text": [
      "★★★★★★★★★\n",
      "数据科学与工程导论\n",
      "★★★★★★★★★\n"
     ]
    }
   ],
   "source": [
    "print(chr(0x2605)*9)\n",
    "print(\"数据科学与工程导论\")\n",
    "print(chr(0x2605)*9)"
   ]
  },
  {
   "cell_type": "code",
   "execution_count": null,
   "id": "80057900",
   "metadata": {},
   "outputs": [],
   "source": []
  }
 ],
 "metadata": {
  "kernelspec": {
   "display_name": "Python 3 (ipykernel)",
   "language": "python",
   "name": "python3"
  },
  "language_info": {
   "codemirror_mode": {
    "name": "ipython",
    "version": 3
   },
   "file_extension": ".py",
   "mimetype": "text/x-python",
   "name": "python",
   "nbconvert_exporter": "python",
   "pygments_lexer": "ipython3",
   "version": "3.9.13"
  }
 },
 "nbformat": 4,
 "nbformat_minor": 5
}
