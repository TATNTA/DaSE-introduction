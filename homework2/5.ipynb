{
 "cells": [
  {
   "cell_type": "code",
   "execution_count": 1,
   "id": "d30ffe49",
   "metadata": {},
   "outputs": [
    {
     "name": "stdout",
     "output_type": "stream",
     "text": [
      "1:1.5000000000000\n",
      "2:1.4166666666667\n",
      "3:1.4142156862745\n",
      "4:1.4142135623747\n"
     ]
    }
   ],
   "source": [
    "def Square_root_3():\n",
    "    c = 2\n",
    "    g = c / 2\n",
    "    i = 0\n",
    "    while abs(g * g - c) > 0.00000000001:\n",
    "        g = (g + c / g) / 2\n",
    "        i += 1\n",
    "        print(\"%d:%.13f\" % (i,g))\n",
    "        \n",
    "Square_root_3()"
   ]
  },
  {
   "cell_type": "code",
   "execution_count": 2,
   "id": "7afc75b7",
   "metadata": {},
   "outputs": [
    {
     "name": "stdout",
     "output_type": "stream",
     "text": [
      "1:501.0000000000000\n",
      "2:252.4960079840319\n",
      "3:130.2084626463296\n",
      "4:72.7842236959815\n",
      "5:50.1313529804782\n",
      "6:45.0132729652318\n",
      "7:44.7223060868324\n",
      "8:44.7213595600124\n",
      "9:44.7213595499958\n"
     ]
    }
   ],
   "source": [
    "def Square_root_3():\n",
    "    c = 2000\n",
    "    g = c / 2\n",
    "    i = 0\n",
    "    while abs(g * g - c) > 0.00000000001:\n",
    "        g = (g + c / g) / 2\n",
    "        i += 1\n",
    "        print(\"%d:%.13f\" % (i,g))\n",
    "        \n",
    "Square_root_3()"
   ]
  },
  {
   "cell_type": "code",
   "execution_count": 3,
   "id": "94b3e2b0",
   "metadata": {},
   "outputs": [
    {
     "name": "stdout",
     "output_type": "stream",
     "text": [
      "1:6.0000000000000\n",
      "2:4.6666666666667\n",
      "3:4.4761904761905\n",
      "4:4.4721377912867\n",
      "5:4.4721359550000\n"
     ]
    }
   ],
   "source": [
    "def Square_root_3():\n",
    "    c = 20\n",
    "    g = c / 2\n",
    "    i = 0\n",
    "    while abs(g * g - c) > 0.00000000001:\n",
    "        g = (g + c / g) / 2\n",
    "        i += 1\n",
    "        print(\"%d:%.13f\" % (i,g))\n",
    "        \n",
    "Square_root_3()"
   ]
  },
  {
   "cell_type": "code",
   "execution_count": 4,
   "id": "9feadef8",
   "metadata": {},
   "outputs": [
    {
     "name": "stdout",
     "output_type": "stream",
     "text": [
      "1:51.0000000000000\n",
      "2:27.4607843137255\n",
      "3:17.3719487437960\n",
      "4:14.4423809486623\n",
      "5:14.1452565514874\n",
      "6:14.1421359680227\n",
      "7:14.1421356237310\n"
     ]
    }
   ],
   "source": [
    "def Square_root_3():\n",
    "    c = 200\n",
    "    g = c / 2\n",
    "    i = 0\n",
    "    while abs(g * g - c) > 0.00000000001:\n",
    "        g = (g + c / g) / 2\n",
    "        i += 1\n",
    "        print(\"%d:%.13f\" % (i,g))\n",
    "        \n",
    "Square_root_3()"
   ]
  },
  {
   "cell_type": "code",
   "execution_count": null,
   "id": "fbafabf8",
   "metadata": {},
   "outputs": [],
   "source": []
  }
 ],
 "metadata": {
  "kernelspec": {
   "display_name": "Python 3 (ipykernel)",
   "language": "python",
   "name": "python3"
  },
  "language_info": {
   "codemirror_mode": {
    "name": "ipython",
    "version": 3
   },
   "file_extension": ".py",
   "mimetype": "text/x-python",
   "name": "python",
   "nbconvert_exporter": "python",
   "pygments_lexer": "ipython3",
   "version": "3.9.13"
  }
 },
 "nbformat": 4,
 "nbformat_minor": 5
}
