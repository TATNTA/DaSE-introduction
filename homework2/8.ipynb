{
 "cells": [
  {
   "cell_type": "code",
   "execution_count": 2,
   "id": "381e7ebb",
   "metadata": {},
   "outputs": [
    {
     "name": "stdout",
     "output_type": "stream",
     "text": [
      "30\n",
      "分割30次，边数为6442450944，圆周率为3.141593\n",
      "math库中的圆周率常量值为3.141593\n"
     ]
    }
   ],
   "source": [
    "'''\n",
    "割圆法\n",
    "'''\n",
    "\n",
    "import math\n",
    "\n",
    "def cutting_circle(n):      # n为分割次数\n",
    "    side_length = 1  # 初始边长\n",
    "    edges = 6  # 初始边数\n",
    "    def length(x):\n",
    "        h = math.sqrt(1-(x /2)**2)\n",
    "        return math.sqrt((x /2)**2 + (1-h)**2)\n",
    "    for i in range(n):\n",
    "        side_length = length(side_length)\n",
    "        edges *=2\n",
    "        pi = side_length*edges/2\n",
    "\n",
    "  \n",
    "    return edges, pi\n",
    "\n",
    "if __name__ == '__main__':\n",
    "    times = int(input())          # 割圆次数\n",
    "    edges, pi =cutting_circle(times) #调用函数返回值\n",
    "    print(f'分割{times}次，边数为{edges}，圆周率为{pi:.6f}')\n",
    "    print(f'math库中的圆周率常量值为{math.pi:.6f}')                               # 圆周率\n",
    "\n"
   ]
  },
  {
   "cell_type": "code",
   "execution_count": 7,
   "id": "ff1b0f6d",
   "metadata": {},
   "outputs": [
    {
     "name": "stdout",
     "output_type": "stream",
     "text": [
      "0.0000001\n",
      "3.14159245\n"
     ]
    }
   ],
   "source": [
    "'''\n",
    "无穷级数\n",
    "'''\n",
    "\n",
    "\n",
    "def leibniz_of_pi(error):\n",
    "    a = 1\n",
    "    b = 1\n",
    "    sum = 0\n",
    "    while 1/ b > error:\n",
    "        if a % 2 != 0:\n",
    "            sum += 1 / b\n",
    "        else:\n",
    "            sum -=  1/ b\n",
    "        a += 1\n",
    "        b += 2\n",
    "    pi = sum*4\n",
    "    return pi\n",
    "\n",
    "\n",
    "if __name__ == '__main__':\n",
    "    threshold = float(input())\n",
    "    print(\"{:.8f}\".format(leibniz_of_pi(threshold)))  # 保留小数点后八位\n"
   ]
  },
  {
   "cell_type": "code",
   "execution_count": 10,
   "id": "094d9e3e",
   "metadata": {},
   "outputs": [
    {
     "name": "stdout",
     "output_type": "stream",
     "text": [
      "3\n",
      "12000000\n",
      "3.1414516666666668\n"
     ]
    }
   ],
   "source": [
    "import random\n",
    "def monte_carlo_pi(num):\n",
    "    a = 0\n",
    "    count = 0\n",
    "    while a < times:\n",
    "        x, y = random.uniform(-1, 1), random.uniform(-1, 1)\n",
    "        if x**2 + y**2 <=1:\n",
    "            count += 1\n",
    "        a +=1\n",
    "    return 4*count / a \n",
    "    \n",
    "if __name__ == '__main__':\n",
    "    sd = int(input())             #读入随机数种子\n",
    "    random.seed(sd)               #设置随机数种子\n",
    "    times = int(input())          # 输入正整数，表示产生点数量\n",
    "    print(monte_carlo_pi(times))  # 输出圆周率值，浮点数\n"
   ]
  },
  {
   "cell_type": "markdown",
   "id": "d67da5ef",
   "metadata": {},
   "source": [
    "割圆法效率高于蒙特卡洛法高于无穷级数法"
   ]
  }
 ],
 "metadata": {
  "kernelspec": {
   "display_name": "Python 3 (ipykernel)",
   "language": "python",
   "name": "python3"
  },
  "language_info": {
   "codemirror_mode": {
    "name": "ipython",
    "version": 3
   },
   "file_extension": ".py",
   "mimetype": "text/x-python",
   "name": "python",
   "nbconvert_exporter": "python",
   "pygments_lexer": "ipython3",
   "version": "3.9.13"
  }
 },
 "nbformat": 4,
 "nbformat_minor": 5
}
