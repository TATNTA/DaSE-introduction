{
 "cells": [
  {
   "cell_type": "code",
   "execution_count": 1,
   "id": "96cd68fd",
   "metadata": {},
   "outputs": [
    {
     "name": "stdout",
     "output_type": "stream",
     "text": [
      "请输入一个实数: 10\n",
      "1 4.0\n",
      "4.0 2.875\n",
      "2.875 2.3199432892249527\n",
      "2.3199432892249527 2.165961555177793\n",
      "2.165961555177793 2.1544959251533746\n",
      "2.1544959251533746 2.154434691772293\n",
      "2.154434691772293 2.154434690031884\n",
      "2.154434690031884 2.154434690031884\n",
      "2.154434690031884\n"
     ]
    }
   ],
   "source": [
    "import math\n",
    "a = float(input(\"请输入一个实数: \"))\n",
    "def f(x):\n",
    "    return x**3 - a\n",
    "\n",
    "def f_derivative(x):\n",
    "    return 3*x**2\n",
    "\n",
    "ep = 0.00000000001\n",
    "xk = 1\n",
    "xk1 = 1\n",
    "\n",
    "while True:\n",
    "    xk1 = xk\n",
    "    xk = xk1 - f(xk1) / f_derivative(xk1)\n",
    "    print(xk1,xk)\n",
    "    if math.fabs(xk - xk1) < ep:\n",
    "        break\n",
    "print(xk)"
   ]
  },
  {
   "cell_type": "code",
   "execution_count": null,
   "id": "0f3c9391",
   "metadata": {},
   "outputs": [],
   "source": []
  }
 ],
 "metadata": {
  "kernelspec": {
   "display_name": "Python 3 (ipykernel)",
   "language": "python",
   "name": "python3"
  },
  "language_info": {
   "codemirror_mode": {
    "name": "ipython",
    "version": 3
   },
   "file_extension": ".py",
   "mimetype": "text/x-python",
   "name": "python",
   "nbconvert_exporter": "python",
   "pygments_lexer": "ipython3",
   "version": "3.9.13"
  }
 },
 "nbformat": 4,
 "nbformat_minor": 5
}
