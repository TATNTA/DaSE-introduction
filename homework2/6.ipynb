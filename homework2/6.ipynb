{
 "cells": [
  {
   "cell_type": "code",
   "execution_count": 1,
   "id": "c9f16a68",
   "metadata": {},
   "outputs": [
    {
     "name": "stdout",
     "output_type": "stream",
     "text": [
      "1:1.5000000000000\n",
      "2:1.4166666666667\n",
      "3:1.4142156862745\n",
      "4:1.4142135623747\n"
     ]
    }
   ],
   "source": [
    "def Square_root_3():\n",
    "    c = 2\n",
    "    g = c \n",
    "    i = 0\n",
    "    while abs(g * g - c) > 0.00000000001:\n",
    "        g = (g + c / g) / 2\n",
    "        i += 1\n",
    "        print(\"%d:%.13f\" % (i,g))\n",
    "        \n",
    "Square_root_3()"
   ]
  },
  {
   "cell_type": "code",
   "execution_count": 2,
   "id": "94821224",
   "metadata": {},
   "outputs": [
    {
     "name": "stdout",
     "output_type": "stream",
     "text": [
      "1:2.2500000000000\n",
      "2:1.5694444444444\n",
      "3:1.4218903638151\n",
      "4:1.4142342859401\n",
      "5:1.4142135625249\n",
      "6:1.4142135623731\n"
     ]
    }
   ],
   "source": [
    "def Square_root_3():\n",
    "    c = 2\n",
    "    g = c / 4\n",
    "    i = 0\n",
    "    while abs(g * g - c) > 0.00000000001:\n",
    "        g = (g + c / g) / 2\n",
    "        i += 1\n",
    "        print(\"%d:%.13f\" % (i,g))\n",
    "        \n",
    "Square_root_3()"
   ]
  },
  {
   "cell_type": "code",
   "execution_count": 3,
   "id": "b0efb29f",
   "metadata": {},
   "outputs": [
    {
     "name": "stdout",
     "output_type": "stream",
     "text": [
      "1:4.1250000000000\n",
      "2:2.3049242424242\n",
      "3:1.5863158599138\n",
      "4:1.4235494082684\n",
      "5:1.4142441752967\n",
      "6:1.4142135627044\n",
      "7:1.4142135623731\n"
     ]
    }
   ],
   "source": [
    "def Square_root_3():\n",
    "    c = 2\n",
    "    g = c / 8\n",
    "    i = 0\n",
    "    while abs(g * g - c) > 0.00000000001:\n",
    "        g = (g + c / g) / 2\n",
    "        i += 1\n",
    "        print(\"%d:%.13f\" % (i,g))\n",
    "        \n",
    "Square_root_3()"
   ]
  },
  {
   "cell_type": "code",
   "execution_count": 4,
   "id": "c32600b6",
   "metadata": {},
   "outputs": [
    {
     "name": "stdout",
     "output_type": "stream",
     "text": [
      "1:50.0100000000000\n",
      "2:25.0249960007998\n",
      "3:12.5524580467459\n",
      "4:6.3558946949311\n",
      "5:3.3352816092804\n",
      "6:1.9674655622311\n",
      "7:1.4920008896897\n",
      "8:1.4162413320389\n",
      "9:1.4142150140501\n",
      "10:1.4142135623738\n"
     ]
    }
   ],
   "source": [
    "def Square_root_3():\n",
    "    c = 2\n",
    "    g = c / 100\n",
    "    i = 0\n",
    "    while abs(g * g - c) > 0.00000000001:\n",
    "        g = (g + c / g) / 2\n",
    "        i += 1\n",
    "        print(\"%d:%.13f\" % (i,g))\n",
    "        \n",
    "Square_root_3()"
   ]
  },
  {
   "cell_type": "markdown",
   "id": "d19ebbe8",
   "metadata": {},
   "source": [
    "改成g = c对结果无影响，改成g = c / 4或其他值会影响最后结果的精度，但是仍能得到较精确的结果"
   ]
  }
 ],
 "metadata": {
  "kernelspec": {
   "display_name": "Python 3 (ipykernel)",
   "language": "python",
   "name": "python3"
  },
  "language_info": {
   "codemirror_mode": {
    "name": "ipython",
    "version": 3
   },
   "file_extension": ".py",
   "mimetype": "text/x-python",
   "name": "python",
   "nbconvert_exporter": "python",
   "pygments_lexer": "ipython3",
   "version": "3.9.13"
  }
 },
 "nbformat": 4,
 "nbformat_minor": 5
}
