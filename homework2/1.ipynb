{
 "cells": [
  {
   "cell_type": "markdown",
   "id": "638327b3",
   "metadata": {},
   "source": [
    "1.1000 * 1001 = 1001000"
   ]
  },
  {
   "cell_type": "markdown",
   "id": "0413df29",
   "metadata": {},
   "source": [
    "2.易知只有当正整数列的元素为2时才有可能达成乘积最大，而当元素为2时，这就变成了一个二次函数，当该二次函数欲取最大值时，变量取值应当尽可能接近总值的一半"
   ]
  },
  {
   "cell_type": "code",
   "execution_count": 3,
   "id": "3c7add37",
   "metadata": {},
   "outputs": [
    {
     "name": "stdout",
     "output_type": "stream",
     "text": [
      "请输入一个正整数: 2001\n",
      "取数列为: 1000 1001\n",
      "最大乘积为: 1001000\n"
     ]
    }
   ],
   "source": [
    "n = int(input(\"请输入一个正整数: \"))\n",
    "a = 0\n",
    "b = 0\n",
    "plus = 0\n",
    "if n % 2 == 0:\n",
    "    a = int(n / 2)\n",
    "    b = int(n / 2)\n",
    "    plus = a * b\n",
    "    print(\"取数列为:\",a,b)\n",
    "    print(\"最大乘积为:\",plus)\n",
    "else:\n",
    "    a = int(n / 2)\n",
    "    b = int(n / 2) + 1\n",
    "    plus = a * b\n",
    "    print(\"取数列为:\",a,b)\n",
    "    print(\"最大乘积为:\",plus)"
   ]
  },
  {
   "cell_type": "code",
   "execution_count": null,
   "id": "edebb886",
   "metadata": {},
   "outputs": [],
   "source": []
  }
 ],
 "metadata": {
  "kernelspec": {
   "display_name": "Python 3 (ipykernel)",
   "language": "python",
   "name": "python3"
  },
  "language_info": {
   "codemirror_mode": {
    "name": "ipython",
    "version": 3
   },
   "file_extension": ".py",
   "mimetype": "text/x-python",
   "name": "python",
   "nbconvert_exporter": "python",
   "pygments_lexer": "ipython3",
   "version": "3.9.13"
  }
 },
 "nbformat": 4,
 "nbformat_minor": 5
}
